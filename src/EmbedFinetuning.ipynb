{
 "cells": [
  {
   "cell_type": "code",
   "execution_count": null,
   "metadata": {},
   "outputs": [],
   "source": [
    "%run Firebase.ipynb\n",
    "%run Bucket.ipynb"
   ]
  },
  {
   "cell_type": "code",
   "execution_count": null,
   "metadata": {},
   "outputs": [],
   "source": [
    "from sklearn.model_selection import train_test_split\n",
    "import os\n",
    "from dotenv import load_dotenv\n",
    "from llama_index.core.node_parser import SentenceSplitter\n",
    "from llama_index.core.schema import MetadataMode\n",
    "\n",
    "load_dotenv()\n",
    "\n",
    "firebase = Firebase()\n",
    "llama_index_documents = firebase.get_all_documents(\n",
    "    limit=50\n",
    ")\n",
    "parser = SentenceSplitter()\n",
    "nodes = parser.get_nodes_from_documents(\n",
    "    llama_index_documents, \n",
    "    show_progress=True\n",
    ")\n",
    "#train_nodes, test_nodes = train_test_split(nodes, test_size=0.2)"
   ]
  },
  {
   "cell_type": "code",
   "execution_count": null,
   "metadata": {},
   "outputs": [],
   "source": [
    "from llama_index.finetuning import generate_qa_embedding_pairs\n",
    "from llama_index.core.evaluation import EmbeddingQAFinetuneDataset\n",
    "from llama_index.llms.openai import OpenAI\n",
    "\n",
    "os.environ[\"OPENAI_API_KEY\"] = os.getenv(\"OPENAI_API_KEY\")\n",
    "\n",
    "training_dataset = generate_qa_embedding_pairs(\n",
    "    llm=OpenAI(\n",
    "        model=\"gpt-3.5-turbo\",\n",
    "        logprobs=False,\n",
    "        default_headers={}\n",
    "      ),\n",
    "    nodes=nodes\n",
    ")\n"
   ]
  },
  {
   "cell_type": "code",
   "execution_count": null,
   "metadata": {},
   "outputs": [],
   "source": [
    "from llama_index.finetuning import SentenceTransformersFinetuneEngine\n",
    "from config import settings\n",
    "import torch\n",
    "\n",
    "os.environ[\"HF_TOKEN\"] = settings.hf_token\n",
    "mps_device = torch.device(\"mps\")\n",
    "\n",
    "finetune_engine = SentenceTransformersFinetuneEngine(\n",
    "    training_dataset,\n",
    "    model_id=\"BAAI/bge-m3\",\n",
    "    model_output_path=\"test_model\",\n",
    "    device=mps_device,\n",
    ")"
   ]
  },
  {
   "cell_type": "code",
   "execution_count": null,
   "metadata": {},
   "outputs": [],
   "source": [
    "finetune_engine.finetune()"
   ]
  },
  {
   "cell_type": "code",
   "execution_count": null,
   "metadata": {},
   "outputs": [],
   "source": [
    "embed_model = finetune_engine.get_finetuned_model()"
   ]
  },
  {
   "cell_type": "code",
   "execution_count": 7,
   "metadata": {},
   "outputs": [],
   "source": [
    "import pickle   \n",
    "\n",
    "with open('models/finetuned_model.pkl', 'wb') as f:\n",
    "    pickle.dump(embed_model, f)"
   ]
  },
  {
   "cell_type": "code",
   "execution_count": null,
   "metadata": {},
   "outputs": [],
   "source": [
    "bucket = Bucket(settings.aws_s3_output_bucket)\n",
    "bucket.upload_object('models/finetuned_model.pkl', 'models/finetuned_model.pkl')"
   ]
  }
 ],
 "metadata": {
  "kernelspec": {
   "display_name": ".venv",
   "language": "python",
   "name": "python3"
  },
  "language_info": {
   "codemirror_mode": {
    "name": "ipython",
    "version": 3
   },
   "file_extension": ".py",
   "mimetype": "text/x-python",
   "name": "python",
   "nbconvert_exporter": "python",
   "pygments_lexer": "ipython3",
   "version": "3.11.6"
  }
 },
 "nbformat": 4,
 "nbformat_minor": 2
}
