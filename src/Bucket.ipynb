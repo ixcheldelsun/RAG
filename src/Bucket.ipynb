{
 "cells": [
  {
   "cell_type": "code",
   "execution_count": 1,
   "metadata": {},
   "outputs": [],
   "source": [
    "import os\n",
    "from dotenv import load_dotenv\n",
    "\n",
    "# Load environment variables from .env file\n",
    "load_dotenv()\n",
    "\n",
    "# AWS\n",
    "AWS_ACCESS_KEY = os.getenv(\"AWS_ACCESS_KEY\")\n",
    "AWS_SECRET_ACCESS_KEY = os.getenv(\"AWS_SECRET_ACCESS_KEY\")\n",
    "AWS_REGION = os.getenv(\"AWS_REGION\")\n",
    "AWS_S3_OUTPUT_BUCKET = os.getenv(\"AWS_S3_OUTPUT_BUCKET\")\n",
    "AWS_S3_INPUT_BUCKET = os.getenv(\"AWS_S3_INPUT_BUCKET\")"
   ]
  },
  {
   "cell_type": "code",
   "execution_count": 2,
   "metadata": {},
   "outputs": [],
   "source": [
    "import boto3\n",
    "import os\n",
    "\n",
    "class Bucket:\n",
    "\n",
    "  def __init__(self, name:str):\n",
    "    self.name = name\n",
    "    self.client = boto3.client(\n",
    "        's3',\n",
    "        aws_access_key_id=AWS_ACCESS_KEY,\n",
    "        aws_secret_access_key=AWS_SECRET_ACCESS_KEY,\n",
    "        region_name=AWS_REGION  # Optional\n",
    "    )\n",
    "\n",
    "  def list_objects(self):\n",
    "    print(f\"Listing objects in bucket: {self.name}\")\n",
    "    response = self.client.list_objects_v2(Bucket=self.name)\n",
    "    return response.get('Contents', [])\n",
    "\n",
    "  def download_object(self, key, directory_name, return_file_path=False):\n",
    "    # Create the local directory if it doesn't exist\n",
    "    os.makedirs(directory_name, exist_ok=True)\n",
    "    local_file_path = os.path.join(directory_name, key)\n",
    "    print(f\"Downloading object from {self.name}: {key} to {local_file_path}\")\n",
    "    self.client.download_file(self.name, key, local_file_path)\n",
    "    if return_file_path:\n",
    "      return local_file_path\n",
    "\n",
    "  def upload_object(self, local_file_path, key):\n",
    "    print(f\"Uploading object from {local_file_path} to {self.name}: {key}\")\n",
    "    self.client.upload_file(local_file_path, self.name, key)\n",
    "    print(f\"Uploaded object from {local_file_path} to {self.name}: {key}\")\n",
    "\n",
    "  def get_object(self, key):\n",
    "    print(f\"Getting object: {key} from {self.name}\")\n",
    "    response = self.client.get_object(Bucket=self.name, Key=key)\n",
    "    return response['Body'].read()\n"
   ]
  }
 ],
 "metadata": {
  "kernelspec": {
   "display_name": ".venv",
   "language": "python",
   "name": "python3"
  },
  "language_info": {
   "codemirror_mode": {
    "name": "ipython",
    "version": 3
   },
   "file_extension": ".py",
   "mimetype": "text/x-python",
   "name": "python",
   "nbconvert_exporter": "python",
   "pygments_lexer": "ipython3",
   "version": "3.12.4"
  }
 },
 "nbformat": 4,
 "nbformat_minor": 2
}
